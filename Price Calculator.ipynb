{
 "cells": [
  {
   "cell_type": "code",
   "execution_count": null,
   "id": "59b705ef",
   "metadata": {},
   "outputs": [],
   "source": [
    "def get_user_input():\n",
    "    while True:\n",
    "        user_input = input(\"Enter the price of item or press 'q' to quit: \\n\")\n",
    "        if user_input.lower() == 'q':\n",
    "            return user_input\n",
    "        try:\n",
    "            price = float(user_input)\n",
    "            if price < 0:\n",
    "                print(\"Please enter a positive value.\")\n",
    "            else:\n",
    "                return price\n",
    "        except ValueError:\n",
    "            print(\"Invalid input. Please enter a valid number.\")\n",
    "\n",
    "def print_summary(items, total):\n",
    "    print(f\"\\nYour Bill total is Rs. {total}. Thanks for shopping with us. Hope you liked our service.\")\n",
    "    print(\"\\nSummary of items you purchased:\")\n",
    "    for item in items:\n",
    "        print(item)\n",
    "    print(f\"\\nTotal items: {len(items)}\")\n",
    "    if items:\n",
    "        average_price = total / len(items)\n",
    "        print(f\"Average price per item: Rs. {average_price:.2f}\")\n",
    "\n",
    "def main():\n",
    "    total = 0\n",
    "    items = []\n",
    "    i = 0\n",
    "\n",
    "    while True:\n",
    "        user_input = get_user_input()\n",
    "        if user_input == 'q':\n",
    "            break\n",
    "        else:\n",
    "            total += user_input\n",
    "            i += 1\n",
    "            items.append(f\"{i}: Rs. {user_input}\")\n",
    "\n",
    "        print(f\"Order total so far: Rs. {total:.2f}\")\n",
    "\n",
    "    print_summary(items, total)\n",
    "\n",
    "if __name__ == \"__main__\":\n",
    "    main()\n"
   ]
  },
  {
   "cell_type": "code",
   "execution_count": null,
   "id": "0787bff8",
   "metadata": {},
   "outputs": [],
   "source": []
  }
 ],
 "metadata": {
  "kernelspec": {
   "display_name": "Python 3 (ipykernel)",
   "language": "python",
   "name": "python3"
  }
 },
 "nbformat": 4,
 "nbformat_minor": 5
}
